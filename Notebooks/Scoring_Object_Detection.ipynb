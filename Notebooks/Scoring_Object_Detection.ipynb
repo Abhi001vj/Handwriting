{
 "cells": [
  {
   "cell_type": "markdown",
   "metadata": {
    "slideshow": {
     "slide_type": "slide"
    }
   },
   "source": [
    "# Object Detection for hand-writing using CVTK (AML Package for Computer Vision)"
   ]
  },
  {
   "cell_type": "markdown",
   "metadata": {
    "slideshow": {
     "slide_type": "slide"
    }
   },
   "source": [
    "## Scoring"
   ]
  },
  {
   "cell_type": "code",
   "execution_count": 69,
   "metadata": {},
   "outputs": [],
   "source": [
    "from cvtk.utils import detection_utils\n",
    "from cvtk.core import ObjectDetectionDataset\n",
    "\n",
    "import os\n",
    "import json\n",
    "import pandas as pd\n",
    "import numpy as np"
   ]
  },
  {
   "cell_type": "code",
   "execution_count": 2,
   "metadata": {
    "scrolled": true
   },
   "outputs": [
    {
     "name": "stdout",
     "output_type": "stream",
     "text": [
      "Frozen model written to path: D:/Projects/EY/models/frozen_inference_graph.pb\n",
      "Labels written to path: D:/Projects/EY/models/label_map.pbtxt\n"
     ]
    }
   ],
   "source": [
    "frozen_model_path = 'D:/Projects/EY/models/frozen_inference_graph.pb'\n",
    "label_map_path = 'D:/Projects/EY/models/label_map.pbtxt'\n",
    "\n",
    "# frozen_model_path, label_map_path = my_detector.save(model_dir)\n",
    "print(\"Frozen model written to path: \" + frozen_model_path)\n",
    "print(\"Labels written to path: \" + label_map_path)"
   ]
  },
  {
   "cell_type": "code",
   "execution_count": 70,
   "metadata": {},
   "outputs": [
    {
     "name": "stderr",
     "output_type": "stream",
     "text": [
      "C:\\Users\\tz2018\\AppData\\local\\AmlWorkbench\\Python\\lib\\site-packages\\cvtk\\libs\\object_detection\\utils\\dataset_util.py:75: FutureWarning: The behavior of this method will change in future versions. Use specific 'len(elem)' or 'elem is not None' test instead.\n",
      "  if not xml:\n"
     ]
    }
   ],
   "source": [
    "out_json_filename = 'D:/Projects/EY/data/test.json' \n",
    "look_up = {1: 'signature', 2: 'others'}\n",
    "jpg_folder = 'D:/Projects/EY/data/test_output/JPEGImages'\n",
    "output_path = 'D:/Projects/EY/results'"
   ]
  },
  {
   "cell_type": "code",
   "execution_count": 72,
   "metadata": {},
   "outputs": [],
   "source": [
    "image_paths  = []\n",
    "image_names = []\n",
    "for img_file in next(os.walk(jpg_folder))[2]:\n",
    "    img_path = os.path.join(jpg_folder, img_file)\n",
    "    image_paths.append(img_path)\n",
    "    image_names.append(img_file)"
   ]
  },
  {
   "cell_type": "code",
   "execution_count": 74,
   "metadata": {},
   "outputs": [],
   "source": [
    "## As the height and width per image are different, \n",
    "height_dic = dict()\n",
    "width_dic = dict()\n",
    "\n",
    "for index in range(len(image_names)):\n",
    "    img_name = image_names[index]\n",
    "    for i in range(len(metadata[str(index)])):\n",
    "        det = metadata[str(index)][i]\n",
    "        height_dic[img_name] = det['height']\n",
    "        width_dic[img_name] = det['width']\n"
   ]
  },
  {
   "cell_type": "markdown",
   "metadata": {},
   "source": [
    "#### load groundtruth handwriting boxes"
   ]
  },
  {
   "cell_type": "code",
   "execution_count": 118,
   "metadata": {},
   "outputs": [
    {
     "data": {
      "text/html": [
       "<div>\n",
       "<table border=\"1\" class=\"dataframe\">\n",
       "  <thead>\n",
       "    <tr style=\"text-align: right;\">\n",
       "      <th></th>\n",
       "      <th>image</th>\n",
       "      <th>bbox_0</th>\n",
       "      <th>bbox_1</th>\n",
       "      <th>bbox_2</th>\n",
       "      <th>bbox_3</th>\n",
       "    </tr>\n",
       "  </thead>\n",
       "  <tbody>\n",
       "    <tr>\n",
       "      <th>0</th>\n",
       "      <td>00cbe986-5497-430f-a707-ca7a217f3525-1.jpg</td>\n",
       "      <td>521</td>\n",
       "      <td>325.5</td>\n",
       "      <td>553</td>\n",
       "      <td>495.5</td>\n",
       "    </tr>\n",
       "    <tr>\n",
       "      <th>1</th>\n",
       "      <td>00cbe986-5497-430f-a707-ca7a217f3525-1.jpg</td>\n",
       "      <td>554</td>\n",
       "      <td>321.0</td>\n",
       "      <td>582</td>\n",
       "      <td>488.0</td>\n",
       "    </tr>\n",
       "    <tr>\n",
       "      <th>2</th>\n",
       "      <td>00cbe986-5497-430f-a707-ca7a217f3525-1.jpg</td>\n",
       "      <td>80</td>\n",
       "      <td>406.0</td>\n",
       "      <td>107</td>\n",
       "      <td>495.0</td>\n",
       "    </tr>\n",
       "    <tr>\n",
       "      <th>3</th>\n",
       "      <td>08d77cf7-618e-4ce3-9889-4b35512f0caf-1.jpg</td>\n",
       "      <td>359</td>\n",
       "      <td>133.0</td>\n",
       "      <td>384</td>\n",
       "      <td>278.0</td>\n",
       "    </tr>\n",
       "    <tr>\n",
       "      <th>4</th>\n",
       "      <td>08d77cf7-618e-4ce3-9889-4b35512f0caf-1.jpg</td>\n",
       "      <td>410</td>\n",
       "      <td>94.0</td>\n",
       "      <td>429</td>\n",
       "      <td>219.0</td>\n",
       "    </tr>\n",
       "  </tbody>\n",
       "</table>\n",
       "</div>"
      ],
      "text/plain": [
       "                                        image  bbox_0  bbox_1  bbox_2  bbox_3\n",
       "0  00cbe986-5497-430f-a707-ca7a217f3525-1.jpg     521   325.5     553   495.5\n",
       "1  00cbe986-5497-430f-a707-ca7a217f3525-1.jpg     554   321.0     582   488.0\n",
       "2  00cbe986-5497-430f-a707-ca7a217f3525-1.jpg      80   406.0     107   495.0\n",
       "3  08d77cf7-618e-4ce3-9889-4b35512f0caf-1.jpg     359   133.0     384   278.0\n",
       "4  08d77cf7-618e-4ce3-9889-4b35512f0caf-1.jpg     410    94.0     429   219.0"
      ]
     },
     "execution_count": 118,
     "metadata": {},
     "output_type": "execute_result"
    }
   ],
   "source": [
    "with open(out_json_filename) as f:\n",
    "    d = json.load(f)\n",
    "metadata = d['frames']\n",
    "\n",
    "logfile = []\n",
    "for index in range(len(image_names)):\n",
    "    img_name = image_names[index]\n",
    "    for i in range(len(metadata[str(index)])):\n",
    "        det = metadata[str(index)][i]\n",
    "        if det['tags'] == ['others']:\n",
    "            bbox_1 = det['x1'] # xmin\n",
    "            bbox_0 = det['y1'] # ymin\n",
    "            bbox_3 = det['x2'] # xmax\n",
    "            bbox_2 = det['y2'] # ymax\n",
    "\n",
    "            line = [img_name, bbox_0, bbox_1, bbox_2, bbox_3]\n",
    "            height_dic[img_name] = det['height']\n",
    "            width_dic[img_name] = det['width']\n",
    "\n",
    "            logfile.append(line)\n",
    "            \n",
    "groundtruth_values = pd.DataFrame(logfile)\n",
    "groundtruth_values.columns = ['image', 'bbox_0', 'bbox_1', 'bbox_2', 'bbox_3']\n",
    "groundtruth_values.head()"
   ]
  },
  {
   "cell_type": "markdown",
   "metadata": {},
   "source": [
    "#### score test images and predict handwriting boxes"
   ]
  },
  {
   "cell_type": "code",
   "execution_count": 75,
   "metadata": {},
   "outputs": [],
   "source": [
    "detections = detection_utils.score_multiple(frozen_model_path, image_paths)"
   ]
  },
  {
   "cell_type": "code",
   "execution_count": 117,
   "metadata": {},
   "outputs": [
    {
     "data": {
      "text/html": [
       "<div>\n",
       "<table border=\"1\" class=\"dataframe\">\n",
       "  <thead>\n",
       "    <tr style=\"text-align: right;\">\n",
       "      <th></th>\n",
       "      <th>image</th>\n",
       "      <th>score</th>\n",
       "      <th>bbox_0</th>\n",
       "      <th>bbox_1</th>\n",
       "      <th>bbox_2</th>\n",
       "      <th>bbox_3</th>\n",
       "    </tr>\n",
       "  </thead>\n",
       "  <tbody>\n",
       "    <tr>\n",
       "      <th>0</th>\n",
       "      <td>00cbe986-5497-430f-a707-ca7a217f3525-1.jpg</td>\n",
       "      <td>0.998655</td>\n",
       "      <td>80.368577</td>\n",
       "      <td>394.758232</td>\n",
       "      <td>108.948167</td>\n",
       "      <td>494.458601</td>\n",
       "    </tr>\n",
       "    <tr>\n",
       "      <th>1</th>\n",
       "      <td>00cbe986-5497-430f-a707-ca7a217f3525-1.jpg</td>\n",
       "      <td>0.998602</td>\n",
       "      <td>519.811079</td>\n",
       "      <td>318.068292</td>\n",
       "      <td>549.495041</td>\n",
       "      <td>486.219076</td>\n",
       "    </tr>\n",
       "    <tr>\n",
       "      <th>2</th>\n",
       "      <td>00cbe986-5497-430f-a707-ca7a217f3525-1.jpg</td>\n",
       "      <td>0.954931</td>\n",
       "      <td>568.136975</td>\n",
       "      <td>436.489160</td>\n",
       "      <td>589.440733</td>\n",
       "      <td>493.237782</td>\n",
       "    </tr>\n",
       "    <tr>\n",
       "      <th>3</th>\n",
       "      <td>00cbe986-5497-430f-a707-ca7a217f3525-1.jpg</td>\n",
       "      <td>0.951688</td>\n",
       "      <td>548.152462</td>\n",
       "      <td>313.517184</td>\n",
       "      <td>570.633486</td>\n",
       "      <td>492.469540</td>\n",
       "    </tr>\n",
       "    <tr>\n",
       "      <th>4</th>\n",
       "      <td>08d77cf7-618e-4ce3-9889-4b35512f0caf-1.jpg</td>\n",
       "      <td>0.999062</td>\n",
       "      <td>435.882792</td>\n",
       "      <td>326.964991</td>\n",
       "      <td>463.440344</td>\n",
       "      <td>402.930254</td>\n",
       "    </tr>\n",
       "  </tbody>\n",
       "</table>\n",
       "</div>"
      ],
      "text/plain": [
       "                                        image     score      bbox_0  \\\n",
       "0  00cbe986-5497-430f-a707-ca7a217f3525-1.jpg  0.998655   80.368577   \n",
       "1  00cbe986-5497-430f-a707-ca7a217f3525-1.jpg  0.998602  519.811079   \n",
       "2  00cbe986-5497-430f-a707-ca7a217f3525-1.jpg  0.954931  568.136975   \n",
       "3  00cbe986-5497-430f-a707-ca7a217f3525-1.jpg  0.951688  548.152462   \n",
       "4  08d77cf7-618e-4ce3-9889-4b35512f0caf-1.jpg  0.999062  435.882792   \n",
       "\n",
       "       bbox_1      bbox_2      bbox_3  \n",
       "0  394.758232  108.948167  494.458601  \n",
       "1  318.068292  549.495041  486.219076  \n",
       "2  436.489160  589.440733  493.237782  \n",
       "3  313.517184  570.633486  492.469540  \n",
       "4  326.964991  463.440344  402.930254  "
      ]
     },
     "execution_count": 117,
     "metadata": {},
     "output_type": "execute_result"
    }
   ],
   "source": [
    "line = []\n",
    "\n",
    "for index in range(len(detections)):\n",
    "    detect_dict = detections[index]\n",
    "    image_name = image_paths[index].split('\\\\')[-1]\n",
    "\n",
    "    n_obj = 0\n",
    "    detect_index = [] # record the detection index in the detections_dict\n",
    "    im_height = height_dic[image_name]\n",
    "    im_width = width_dic[image_name]\n",
    "    for i in range(detect_dict['num_detections']):\n",
    "        if detect_dict['detection_classes'][i] ==2 and detect_dict['detection_scores'][i] > 0.5:\n",
    "            detect_index.append(i)\n",
    "            n_obj += 1\n",
    "            ymin, xmin, ymax, xmax = detect_dict['detection_boxes'][i][0]*im_height, detect_dict['detection_boxes'][i][1]*im_width, \\\n",
    "                detect_dict['detection_boxes'][i][2]*im_height, detect_dict['detection_boxes'][i][3]*im_width\n",
    "            (left, right, bottom, top) = (xmin, xmax, ymin, ymax)\n",
    "            line.append([image_name, detect_dict['detection_scores'][i], bottom, left, top, right])\n",
    "        \n",
    "predicted_values = pd.DataFrame(line)\n",
    "predicted_values.columns = ['image', 'score', 'bbox_0', 'bbox_1', 'bbox_2', 'bbox_3']\n",
    "predicted_values.head()\n",
    " "
   ]
  },
  {
   "cell_type": "markdown",
   "metadata": {},
   "source": [
    "#### helper function for calculating precision and recall"
   ]
  },
  {
   "cell_type": "code",
   "execution_count": 78,
   "metadata": {},
   "outputs": [],
   "source": [
    "def prepare_iou(values):\n",
    "    bboxes = {}\n",
    "    bboxes['x1'] = values['bbox_1']\n",
    "    bboxes['x2'] = values['bbox_3']\n",
    "    bboxes['y1'] = values['bbox_0']\n",
    "    bboxes['y2'] = values['bbox_2']\n",
    "    return bboxes"
   ]
  },
  {
   "cell_type": "code",
   "execution_count": 108,
   "metadata": {},
   "outputs": [],
   "source": [
    "def cal_precision_recall_matrix(img):\n",
    "    val_values = groundtruth_values[groundtruth_values['image'] == img]\n",
    "    model_values = predicted_values[predicted_values['image'] == img]\n",
    "    print ('num of true boxes {}; num of detected boxes {}'.format(len(val_values), len(model_values)))\n",
    "    d_matrix = np.zeros((im_height,im_width))\n",
    "\n",
    "    if len(val_values) ==0 and len(model_values) == 0:\n",
    "        precision = 'NA'\n",
    "        recall = 'NA'\n",
    "    elif len(model_values) == 0:\n",
    "        precision = 0\n",
    "        recall = 0\n",
    "    elif len(val_values) == 0:\n",
    "        precision = 0\n",
    "        recall = 0\n",
    "    else:\n",
    "        for di in range(len(model_values)):\n",
    "            detect = prepare_iou(model_values.iloc[di])\n",
    "            x1, x2, y1, y2 = int(detect['x1']), int(detect['x2']), int(detect['y1']), int(detect['y2'])\n",
    "            d_matrix[y1:y2+1, x1:x2+1] =1\n",
    "            detect_area = int(d_matrix.sum())\n",
    "        \n",
    "        g_matrix = np.zeros((im_height, im_width))\n",
    "        \n",
    "        for ti in range(len(val_values)):\n",
    "            gtruth = prepare_iou(val_values.iloc[ti])\n",
    "            x1, x2, y1, y2 = int(gtruth['x1']), int(gtruth['x2']), int(gtruth['y1']), int(gtruth['y2'])\n",
    "            g_matrix[y1:y2+1, x1:x2+1] = 1    \n",
    "            g_area = int(g_matrix.sum())\n",
    "        \n",
    "        inter_area = (d_matrix * g_matrix).sum()\n",
    "        precision = inter_area/detect_area\n",
    "        recall = inter_area/g_area     \n",
    "    return precision,recall"
   ]
  },
  {
   "cell_type": "code",
   "execution_count": 115,
   "metadata": {},
   "outputs": [
    {
     "name": "stdout",
     "output_type": "stream",
     "text": [
      "num of true boxes 3; num of detected boxes 3\n",
      "3 3\n",
      "num of true boxes 4; num of detected boxes 4\n",
      "4 4\n",
      "num of true boxes 2; num of detected boxes 2\n",
      "2 2\n",
      "num of true boxes 2; num of detected boxes 2\n",
      "2 2\n",
      "num of true boxes 2; num of detected boxes 2\n",
      "2 2\n",
      "num of true boxes 2; num of detected boxes 2\n",
      "2 2\n",
      "num of true boxes 2; num of detected boxes 2\n",
      "2 2\n",
      "num of true boxes 3; num of detected boxes 4\n",
      "3 4\n",
      "num of true boxes 4; num of detected boxes 5\n",
      "4 5\n",
      "num of true boxes 1; num of detected boxes 1\n",
      "1 1\n",
      "num of true boxes 1; num of detected boxes 2\n",
      "1 2\n",
      "num of true boxes 1; num of detected boxes 2\n",
      "1 2\n",
      "num of true boxes 1; num of detected boxes 2\n",
      "1 2\n",
      "num of true boxes 1; num of detected boxes 2\n",
      "1 2\n",
      "num of true boxes 4; num of detected boxes 5\n",
      "4 5\n",
      "num of true boxes 3; num of detected boxes 3\n",
      "3 3\n",
      "num of true boxes 3; num of detected boxes 4\n",
      "3 4\n",
      "num of true boxes 2; num of detected boxes 1\n",
      "2 1\n",
      "num of true boxes 6; num of detected boxes 8\n",
      "6 8\n",
      "num of true boxes 6; num of detected boxes 3\n",
      "6 3\n",
      "num of true boxes 3; num of detected boxes 5\n",
      "3 5\n",
      "num of true boxes 1; num of detected boxes 1\n",
      "1 1\n",
      "num of true boxes 4; num of detected boxes 4\n",
      "4 4\n",
      "num of true boxes 2; num of detected boxes 2\n",
      "2 2\n",
      "num of true boxes 2; num of detected boxes 2\n",
      "2 2\n",
      "num of true boxes 2; num of detected boxes 2\n",
      "2 2\n",
      "num of true boxes 2; num of detected boxes 2\n",
      "2 2\n",
      "num of true boxes 2; num of detected boxes 2\n",
      "2 2\n",
      "num of true boxes 2; num of detected boxes 3\n",
      "2 3\n",
      "num of true boxes 5; num of detected boxes 5\n",
      "5 5\n",
      "num of true boxes 2; num of detected boxes 3\n",
      "2 3\n",
      "num of true boxes 3; num of detected boxes 4\n",
      "3 4\n",
      "num of true boxes 5; num of detected boxes 5\n",
      "5 5\n",
      "num of true boxes 0; num of detected boxes 2\n",
      "0 2\n",
      "num of true boxes 7; num of detected boxes 9\n",
      "7 9\n",
      "num of true boxes 1; num of detected boxes 3\n",
      "1 3\n",
      "num of true boxes 3; num of detected boxes 4\n",
      "3 4\n",
      "num of true boxes 1; num of detected boxes 1\n",
      "1 1\n",
      "num of true boxes 3; num of detected boxes 3\n",
      "3 3\n",
      "num of true boxes 2; num of detected boxes 4\n",
      "2 4\n",
      "num of true boxes 2; num of detected boxes 2\n",
      "2 2\n",
      "num of true boxes 5; num of detected boxes 6\n",
      "5 6\n",
      "num of true boxes 3; num of detected boxes 3\n",
      "3 3\n",
      "num of true boxes 3; num of detected boxes 2\n",
      "3 2\n",
      "num of true boxes 0; num of detected boxes 2\n",
      "0 2\n",
      "num of true boxes 3; num of detected boxes 4\n",
      "3 4\n",
      "num of true boxes 7; num of detected boxes 6\n",
      "7 6\n",
      "num of true boxes 3; num of detected boxes 2\n",
      "3 2\n",
      "num of true boxes 3; num of detected boxes 2\n",
      "3 2\n",
      "num of true boxes 6; num of detected boxes 5\n",
      "6 5\n",
      "num of true boxes 4; num of detected boxes 2\n",
      "4 2\n",
      "num of true boxes 5; num of detected boxes 6\n",
      "5 6\n",
      "num of true boxes 2; num of detected boxes 2\n",
      "2 2\n",
      "num of true boxes 2; num of detected boxes 2\n",
      "2 2\n",
      "num of true boxes 2; num of detected boxes 2\n",
      "2 2\n",
      "num of true boxes 2; num of detected boxes 2\n",
      "2 2\n",
      "num of true boxes 3; num of detected boxes 3\n",
      "3 3\n",
      "num of true boxes 4; num of detected boxes 2\n",
      "4 2\n",
      "num of true boxes 3; num of detected boxes 2\n",
      "3 2\n",
      "num of true boxes 3; num of detected boxes 6\n",
      "3 6\n",
      "num of true boxes 5; num of detected boxes 6\n",
      "5 6\n",
      "num of true boxes 3; num of detected boxes 4\n",
      "3 4\n",
      "num of true boxes 2; num of detected boxes 2\n",
      "2 2\n",
      "num of true boxes 3; num of detected boxes 3\n",
      "3 3\n",
      "num of true boxes 2; num of detected boxes 3\n",
      "2 3\n",
      "num of true boxes 2; num of detected boxes 2\n",
      "2 2\n",
      "num of true boxes 3; num of detected boxes 5\n",
      "3 5\n",
      "num of true boxes 3; num of detected boxes 6\n",
      "3 6\n",
      "num of true boxes 3; num of detected boxes 3\n",
      "3 3\n",
      "num of true boxes 6; num of detected boxes 5\n",
      "6 5\n",
      "num of true boxes 3; num of detected boxes 2\n",
      "3 2\n",
      "num of true boxes 3; num of detected boxes 1\n",
      "3 1\n",
      "num of true boxes 4; num of detected boxes 5\n",
      "4 5\n",
      "num of true boxes 2; num of detected boxes 2\n",
      "2 2\n",
      "num of true boxes 2; num of detected boxes 2\n",
      "2 2\n",
      "num of true boxes 2; num of detected boxes 4\n",
      "2 4\n",
      "num of true boxes 2; num of detected boxes 2\n",
      "2 2\n",
      "num of true boxes 3; num of detected boxes 3\n",
      "3 3\n",
      "num of true boxes 2; num of detected boxes 2\n",
      "2 2\n",
      "num of true boxes 3; num of detected boxes 3\n",
      "3 3\n",
      "num of true boxes 2; num of detected boxes 2\n",
      "2 2\n",
      "num of true boxes 4; num of detected boxes 5\n",
      "4 5\n",
      "num of true boxes 1; num of detected boxes 2\n",
      "1 2\n",
      "num of true boxes 1; num of detected boxes 2\n",
      "1 2\n",
      "num of true boxes 1; num of detected boxes 2\n",
      "1 2\n",
      "num of true boxes 1; num of detected boxes 1\n",
      "1 1\n",
      "num of true boxes 4; num of detected boxes 5\n",
      "4 5\n",
      "num of true boxes 1; num of detected boxes 1\n",
      "1 1\n",
      "num of true boxes 1; num of detected boxes 1\n",
      "1 1\n",
      "num of true boxes 1; num of detected boxes 1\n",
      "1 1\n",
      "num of true boxes 3; num of detected boxes 3\n",
      "3 3\n",
      "num of true boxes 2; num of detected boxes 4\n",
      "2 4\n",
      "num of true boxes 3; num of detected boxes 3\n",
      "3 3\n",
      "num of true boxes 1; num of detected boxes 2\n",
      "1 2\n",
      "num of true boxes 5; num of detected boxes 5\n",
      "5 5\n",
      "num of true boxes 2; num of detected boxes 2\n",
      "2 2\n",
      "num of true boxes 2; num of detected boxes 2\n",
      "2 2\n",
      "num of true boxes 2; num of detected boxes 2\n",
      "2 2\n",
      "num of true boxes 2; num of detected boxes 2\n",
      "2 2\n",
      "num of true boxes 3; num of detected boxes 4\n",
      "3 4\n"
     ]
    }
   ],
   "source": [
    "precision = []\n",
    "recall = []\n",
    "\n",
    "for img in image_names:\n",
    "    precision_per_img, recall_per_img = cal_precision_recall_matrix(img)\n",
    "    precision.append(precision_per_img)\n",
    "    recall.append(recall_per_img)"
   ]
  },
  {
   "cell_type": "code",
   "execution_count": 116,
   "metadata": {},
   "outputs": [],
   "source": [
    "output = pd.concat([pd.DataFrame(precision), pd.DataFrame(recall)], axis = 1)\n",
    "output.columns = ['precision', 'recall']\n",
    "output.head()\n",
    "output.to_csv(os.path.join(output_path, 'signature_v3.csv'), index = False)"
   ]
  },
  {
   "cell_type": "code",
   "execution_count": 52,
   "metadata": {},
   "outputs": [
    {
     "data": {
      "text/plain": [
       "(0.6941276085662448, 0.8415512763390542)"
      ]
     },
     "execution_count": 52,
     "metadata": {},
     "output_type": "execute_result"
    }
   ],
   "source": [
    "np.mean(precision), np.mean(recall)"
   ]
  }
 ],
 "metadata": {
  "kernelspec": {
   "display_name": "Python 3",
   "language": "python",
   "name": "python3"
  },
  "language_info": {
   "codemirror_mode": {
    "name": "ipython",
    "version": 3
   },
   "file_extension": ".py",
   "mimetype": "text/x-python",
   "name": "python",
   "nbconvert_exporter": "python",
   "pygments_lexer": "ipython3",
   "version": "3.5.2"
  }
 },
 "nbformat": 4,
 "nbformat_minor": 2
}
